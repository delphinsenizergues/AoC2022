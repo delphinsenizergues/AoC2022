{
 "cells": [
  {
   "cell_type": "code",
   "execution_count": 6,
   "id": "ddbba453-e9a7-46ef-a39b-1a1fbf6279cf",
   "metadata": {},
   "outputs": [
    {
     "name": "stdout",
     "output_type": "stream",
     "text": [
      "70374\n"
     ]
    }
   ],
   "source": [
    "#lire le fichier et sommer le calories consécutives\n",
    "current_elf=0\n",
    "running_max=0\n",
    "for line in open(\"input1.txt\").readlines():\n",
    "    if line!=\"\\n\":\n",
    "        current_elf=current_elf + int(line)\n",
    "        running_max=max(current_elf,running_max)\n",
    "    else:\n",
    "        current_elf=0\n",
    "print(running_max)"
   ]
  },
  {
   "cell_type": "code",
   "execution_count": 7,
   "id": "171d706a-4fc7-4514-b847-931f4df66bee",
   "metadata": {},
   "outputs": [
    {
     "name": "stdout",
     "output_type": "stream",
     "text": [
      "[58335, 37941, 55299, 46042, 41008, 50793, 16730, 46096, 64812, 29839, 43141, 47293, 48151, 41611, 38736, 51357, 45709, 54306, 48602, 13638, 36286, 48760, 54667, 50745, 43939, 45482, 53070, 62907, 56591, 26747, 47930, 52532, 50231, 44665, 45056, 52940, 20130, 51649, 52095, 39130, 45641, 49327, 51506, 57106, 34556, 59987, 19407, 42579, 38420, 45453, 47575, 44207, 26575, 56104, 59336, 49248, 45060, 47795, 43662, 48164, 46931, 25661, 54022, 33537, 56815, 44839, 28490, 44926, 55678, 57750, 45115, 51569, 49881, 41944, 51132, 43486, 47475, 58102, 47636, 50451, 56493, 37428, 51935, 15207, 47652, 61593, 51573, 49422, 34138, 49753, 50269, 40090, 51766, 52009, 54818, 53191, 31881, 50136, 50667, 50025, 41540, 58579, 57430, 47117, 34880, 50839, 45156, 42196, 44488, 45934, 43920, 51972, 43463, 47955, 42524, 58944, 28416, 48533, 48510, 65240, 42331, 42903, 47510, 57745, 29978, 54276, 52293, 43278, 38079, 46525, 56075, 49670, 51982, 54265, 51118, 45205, 46833, 53714, 61707, 51401, 48600, 34872, 55011, 43272, 39439, 25022, 50223, 56293, 41487, 59293, 48481, 47114, 59289, 11496, 53152, 43743, 55781, 20793, 44323, 27503, 54238, 50243, 45966, 48785, 33924, 60797, 35494, 48977, 32906, 45139, 39864, 46296, 54539, 59362, 35883, 40544, 56650, 48060, 54089, 63220, 41427, 30777, 48436, 47228, 33445, 53882, 62713, 58333, 51650, 43590, 40946, 51606, 46487, 64420, 53541, 45606, 51316, 57779, 38956, 52756, 56066, 32898, 41483, 60078, 32714, 37161, 53503, 50528, 45282, 70374, 32810, 61626, 43856, 49387, 51486, 61759, 52301, 64563, 57901, 63853, 38360, 55760, 42703, 48120, 54269, 47081, 41071, 43389, 53242, 45198, 68996, 49999, 61509, 54155, 32883, 43139, 44618, 50726, 52529]\n"
     ]
    }
   ],
   "source": [
    "#faire une liste des calories portées par chaque elfe\n",
    "current_elf=0\n",
    "liste_calories=[]\n",
    "for line in open(\"input1.txt\").readlines():\n",
    "    if line!=\"\\n\":\n",
    "        current_elf=current_elf + int(line)\n",
    "    else:\n",
    "        liste_calories.append(current_elf)\n",
    "        current_elf=0\n",
    "liste_calories.append(current_elf)\n",
    "print(liste_calories)"
   ]
  },
  {
   "cell_type": "code",
   "execution_count": 10,
   "id": "6a4f8d89-ff98-42c5-b9ef-b6fbdc0d2fff",
   "metadata": {},
   "outputs": [],
   "source": [
    "#ranger la liste précédente à l'aide d'une fonction de tri déjà existante ? \n",
    "sorted_calories=sorted(liste_calories,reverse=True)[:3]"
   ]
  },
  {
   "cell_type": "code",
   "execution_count": 11,
   "id": "dfadd8fa-9985-4079-9564-aed5d0f1d14f",
   "metadata": {},
   "outputs": [
    {
     "data": {
      "text/plain": [
       "204610"
      ]
     },
     "execution_count": 11,
     "metadata": {},
     "output_type": "execute_result"
    }
   ],
   "source": [
    "sum(sorted_calories)"
   ]
  },
  {
   "cell_type": "code",
   "execution_count": null,
   "id": "9d59c8b7-eb73-446c-bb71-6e191cb98508",
   "metadata": {},
   "outputs": [],
   "source": []
  }
 ],
 "metadata": {
  "kernelspec": {
   "display_name": "Python 3 (ipykernel)",
   "language": "python",
   "name": "python3"
  },
  "language_info": {
   "codemirror_mode": {
    "name": "ipython",
    "version": 3
   },
   "file_extension": ".py",
   "mimetype": "text/x-python",
   "name": "python",
   "nbconvert_exporter": "python",
   "pygments_lexer": "ipython3",
   "version": "3.9.13"
  }
 },
 "nbformat": 4,
 "nbformat_minor": 5
}
