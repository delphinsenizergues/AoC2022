{
 "cells": [
  {
   "cell_type": "code",
   "execution_count": 51,
   "id": "45a442b4-3407-4fe0-a42d-ce0d52c7a0b1",
   "metadata": {},
   "outputs": [],
   "source": [
    "import numpy as np\n",
    "from numpy import linalg as la"
   ]
  },
  {
   "cell_type": "code",
   "execution_count": 78,
   "id": "690bfe07-cc10-4859-b428-4da6db0115ab",
   "metadata": {},
   "outputs": [],
   "source": [
    "with open(\"input10.txt\") as f:\n",
    "    lignes=f.read().split(\"\\n\")\n",
    "    lignes=lignes[:-1]"
   ]
  },
  {
   "cell_type": "code",
   "execution_count": 81,
   "id": "34fa6137-c170-4d02-8ecb-e04f58195e29",
   "metadata": {},
   "outputs": [],
   "source": [
    "#calcul de la liste des valeurs prises par le registre \n",
    "cycle_number=0\n",
    "X=1\n",
    "value=[1]\n",
    "for line in lignes:\n",
    "    if line=='noop':\n",
    "        value.append(X)\n",
    "        cycle_number=cycle_number+1\n",
    "    elif line.startswith('addx '):\n",
    "        value.append(X)\n",
    "        cycle_number=cycle_number+1\n",
    "        X=X+int(line[5:])\n",
    "        value.append(X)\n",
    "        cycle_number=cycle_number+1"
   ]
  },
  {
   "cell_type": "code",
   "execution_count": 82,
   "id": "660672c8-ab96-4bb9-b24e-4bdfd7f74e9a",
   "metadata": {},
   "outputs": [
    {
     "data": {
      "text/plain": [
       "15260"
      ]
     },
     "execution_count": 82,
     "metadata": {},
     "output_type": "execute_result"
    }
   ],
   "source": [
    "sum([i*value[i] for i in range(20,221,40)])"
   ]
  },
  {
   "cell_type": "code",
   "execution_count": 85,
   "id": "e3d0fa59-6143-47ef-a255-ee4c92ce98e7",
   "metadata": {},
   "outputs": [],
   "source": [
    "#calcul de l'image produite \n",
    "tableau=''\n",
    "l=len(value)\n",
    "for i in range(l):\n",
    "    if i%40==0:\n",
    "        tableau=tableau+'\\n'\n",
    "    if abs(i%40-value[i])<=1:\n",
    "        tableau=tableau+'#'\n",
    "    else:\n",
    "        tableau=tableau+'.'"
   ]
  },
  {
   "cell_type": "code",
   "execution_count": 86,
   "id": "d0d34d9f-c347-43c6-b5a0-53695c55ada2",
   "metadata": {},
   "outputs": [
    {
     "name": "stdout",
     "output_type": "stream",
     "text": [
      "\n",
      "###...##..#..#.####..##..#....#..#..##..\n",
      "#..#.#..#.#..#.#....#..#.#....#..#.#..#.\n",
      "#..#.#....####.###..#....#....#..#.#....\n",
      "###..#.##.#..#.#....#.##.#....#..#.#.##.\n",
      "#....#..#.#..#.#....#..#.#....#..#.#..#.\n",
      "#.....###.#..#.#.....###.####..##...###.\n",
      ".\n"
     ]
    }
   ],
   "source": [
    "print(tableau)"
   ]
  },
  {
   "cell_type": "code",
   "execution_count": null,
   "id": "f7912b36-8e98-4204-b304-59c03d4d6edc",
   "metadata": {},
   "outputs": [],
   "source": []
  }
 ],
 "metadata": {
  "kernelspec": {
   "display_name": "Python 3 (ipykernel)",
   "language": "python",
   "name": "python3"
  },
  "language_info": {
   "codemirror_mode": {
    "name": "ipython",
    "version": 3
   },
   "file_extension": ".py",
   "mimetype": "text/x-python",
   "name": "python",
   "nbconvert_exporter": "python",
   "pygments_lexer": "ipython3",
   "version": "3.9.13"
  }
 },
 "nbformat": 4,
 "nbformat_minor": 5
}
