{
 "cells": [
  {
   "cell_type": "code",
   "execution_count": 50,
   "id": "3e689a3b-7748-413f-b21e-0afcccc9bafd",
   "metadata": {},
   "outputs": [
    {
     "data": {
      "text/plain": [
       "1020"
      ]
     },
     "execution_count": 50,
     "metadata": {},
     "output_type": "execute_result"
    }
   ],
   "source": [
    "#obtenir la liste des lignes de code\n",
    "with open(\"input7.txt\") as f:\n",
    "    lignes=f.read().split(\"\\n\")\n",
    "len(lignes)"
   ]
  },
  {
   "cell_type": "code",
   "execution_count": 51,
   "id": "87d00288-717c-4112-85de-9e77ebb4e27e",
   "metadata": {},
   "outputs": [],
   "source": [
    "#récupérer l'arborescence + la taille des dossiers (en ne comptant que les fichiers direct dedans)\n",
    "current_dir=str('/')\n",
    "parent=dict()\n",
    "temp_size=dict()\n",
    "current_temp_size=int(0)\n",
    "dossier={'/'}\n",
    "ls_dir='/'\n",
    "for line in lignes[0:len(lignes)-1]:\n",
    "    if line.startswith('$'):\n",
    "        temp_size[ls_dir]=current_temp_size\n",
    "    if line.startswith('$ ls'):\n",
    "        ls_dir=current_dir\n",
    "        current_temp_size=int(0)\n",
    "    if line.startswith('$ cd '):\n",
    "        suffix=line[5:]\n",
    "        if suffix=='..':\n",
    "            current_dir=parent[current_dir]\n",
    "        elif suffix=='/':\n",
    "            current_dir='/'\n",
    "        else:\n",
    "            new_dir=current_dir+suffix+'/'\n",
    "            parent.update({new_dir:current_dir})\n",
    "            current_dir=new_dir\n",
    "            dossier.add(new_dir)\n",
    "    elif line.startswith('dir '):\n",
    "        suffix=line[4:]\n",
    "    elif line.startswith('$')==False: \n",
    "        current_temp_size=current_temp_size + int(line.split(' ')[0])\n",
    "temp_size[ls_dir]=current_temp_size \n",
    "    \n"
   ]
  },
  {
   "cell_type": "code",
   "execution_count": 57,
   "id": "93ae1068-348e-460d-b158-de65bbc6c8a7",
   "metadata": {},
   "outputs": [],
   "source": [
    "#récupération des enfants de chaque dossier\n",
    "enfants={dir:set(()) for dir in dossier}\n",
    "for dir in dossier:\n",
    "    if dir!='/':\n",
    "        enfants[parent[dir]].add(dir)"
   ]
  },
  {
   "cell_type": "code",
   "execution_count": 58,
   "id": "652c71ae-7ed4-46e8-8e57-dbd4da64cd97",
   "metadata": {},
   "outputs": [],
   "source": [
    "#calcul de la taille des dossiers\n",
    "def calculertaille(dir):\n",
    "    if enfants[dir]==set():\n",
    "        return temp_size[dir]\n",
    "    else: \n",
    "        taille_enfants= [calculertaille(enf) for enf in enfants[dir]]\n",
    "        return temp_size[dir]+sum(taille_enfants)\n",
    "        \n",
    "    "
   ]
  },
  {
   "cell_type": "code",
   "execution_count": 59,
   "id": "2d194b0d-5466-4e40-a91b-f014ae36643a",
   "metadata": {
    "tags": []
   },
   "outputs": [],
   "source": [
    "#mettre ça dans un dico\n",
    "taille=dict()\n",
    "for dir in dossier:\n",
    "    taille_dossier=calculertaille(dir)\n",
    "    taille.update({dir:taille_dossier})\n"
   ]
  },
  {
   "cell_type": "code",
   "execution_count": 60,
   "id": "0e9414ad-bcc2-4315-810b-57bd4ffeddd7",
   "metadata": {
    "tags": []
   },
   "outputs": [
    {
     "data": {
      "text/plain": [
       "1423358"
      ]
     },
     "execution_count": 60,
     "metadata": {},
     "output_type": "execute_result"
    }
   ],
   "source": [
    "#faire la somme de tout ceux qui sont plus petit qu'un certain nombre\n",
    "sum(x for x in sorted(taille.values()) if x<100000)"
   ]
  },
  {
   "cell_type": "code",
   "execution_count": 65,
   "id": "dda4de7a-8add-4b1c-bcec-8d101cfb6b4f",
   "metadata": {},
   "outputs": [],
   "source": [
    "spacetofree=30000000-(70000000-taille['/'])"
   ]
  },
  {
   "cell_type": "code",
   "execution_count": 67,
   "id": "e6e5c4b4-fe5d-42fa-b9c5-929082114ca6",
   "metadata": {},
   "outputs": [
    {
     "data": {
      "text/plain": [
       "545729"
      ]
     },
     "execution_count": 67,
     "metadata": {},
     "output_type": "execute_result"
    }
   ],
   "source": [
    "[x for x in sorted(taille.values()) if x>=spacetofree][0]"
   ]
  },
  {
   "cell_type": "code",
   "execution_count": null,
   "id": "54d95e49-6083-4ef1-8051-c711f4dba77e",
   "metadata": {},
   "outputs": [],
   "source": []
  }
 ],
 "metadata": {
  "kernelspec": {
   "display_name": "Python 3 (ipykernel)",
   "language": "python",
   "name": "python3"
  },
  "language_info": {
   "codemirror_mode": {
    "name": "ipython",
    "version": 3
   },
   "file_extension": ".py",
   "mimetype": "text/x-python",
   "name": "python",
   "nbconvert_exporter": "python",
   "pygments_lexer": "ipython3",
   "version": "3.9.13"
  }
 },
 "nbformat": 4,
 "nbformat_minor": 5
}
