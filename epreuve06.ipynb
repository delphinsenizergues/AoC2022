{
 "cells": [
  {
   "cell_type": "code",
   "execution_count": 11,
   "id": "10f34730-c153-44e9-96b7-d60b6781e935",
   "metadata": {},
   "outputs": [],
   "source": [
    "#recuperation du message\n",
    "message=list(open(\"input6.txt\").read())"
   ]
  },
  {
   "cell_type": "code",
   "execution_count": 49,
   "id": "6e647e96-8162-4902-80db-3bb0c431dd1d",
   "metadata": {},
   "outputs": [
    {
     "name": "stdout",
     "output_type": "stream",
     "text": [
      "3425\n"
     ]
    }
   ],
   "source": [
    "for i in range(13,len(message),1):\n",
    "    if len(set(message[i-13:i+1]))==14:\n",
    "        print(i+1)"
   ]
  },
  {
   "cell_type": "code",
   "execution_count": null,
   "id": "bad0fbf0-0c2c-4579-a516-777711d22fc9",
   "metadata": {},
   "outputs": [],
   "source": []
  },
  {
   "cell_type": "code",
   "execution_count": null,
   "id": "96631546-06c9-416b-a8f4-c790e39923d1",
   "metadata": {},
   "outputs": [],
   "source": []
  },
  {
   "cell_type": "code",
   "execution_count": null,
   "id": "8f9a9d83-6220-47f5-afec-292e2341c3c8",
   "metadata": {},
   "outputs": [],
   "source": []
  }
 ],
 "metadata": {
  "kernelspec": {
   "display_name": "Python 3 (ipykernel)",
   "language": "python",
   "name": "python3"
  },
  "language_info": {
   "codemirror_mode": {
    "name": "ipython",
    "version": 3
   },
   "file_extension": ".py",
   "mimetype": "text/x-python",
   "name": "python",
   "nbconvert_exporter": "python",
   "pygments_lexer": "ipython3",
   "version": "3.9.13"
  }
 },
 "nbformat": 4,
 "nbformat_minor": 5
}
