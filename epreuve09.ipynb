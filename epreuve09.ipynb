{
 "cells": [
  {
   "cell_type": "code",
   "execution_count": 123,
   "id": "77440e09-013d-4e9f-b47b-5e82b36b6d36",
   "metadata": {},
   "outputs": [],
   "source": [
    "import numpy as np\n",
    "from numpy import linalg as la"
   ]
  },
  {
   "cell_type": "code",
   "execution_count": 124,
   "id": "019f0717-96b1-40e1-a254-b39f45ac735c",
   "metadata": {},
   "outputs": [],
   "source": [
    "with open(\"input9.txt\") as f:\n",
    "    lignes=f.read().split(\"\\n\")\n",
    "    l=len(lignes)\n",
    "    lignes=lignes[:l-1]"
   ]
  },
  {
   "cell_type": "code",
   "execution_count": 125,
   "id": "36b4ed6b-8181-4da4-a275-36733c10090e",
   "metadata": {},
   "outputs": [],
   "source": [
    "#on fait une liste des déplacements à suivre pour la tête\n",
    "moves=[]\n",
    "for line in lignes:\n",
    "    (a,b)=line.split(' ')\n",
    "    if a=='R':\n",
    "        for i in range(int(b)):\n",
    "            moves.append(np.array([1,0]))\n",
    "    if a=='L':\n",
    "        for i in range(int(b)):\n",
    "            moves.append(np.array([-1,0]))\n",
    "    if a=='U':\n",
    "        for i in range(int(b)):\n",
    "            moves.append(np.array([0,1]))\n",
    "    if a=='D':\n",
    "        for i in range(int(b)):\n",
    "            moves.append(np.array([0,-1]))"
   ]
  },
  {
   "cell_type": "code",
   "execution_count": 85,
   "id": "826e5180-a9fa-46e8-abcb-1426d546555e",
   "metadata": {},
   "outputs": [],
   "source": [
    "#c'est parti\n",
    "visites=set()\n",
    "head_position=np.array([0,0])\n",
    "tail_position=np.array([0,0])\n",
    "for step in moves:\n",
    "    head_position=head_position+step\n",
    "    difference=head_position-tail_position\n",
    "    if la.norm(difference)>1.5:\n",
    "        tail_position=tail_position+np.sign(difference)\n",
    "    visites.add(str(tail_position))"
   ]
  },
  {
   "cell_type": "code",
   "execution_count": 86,
   "id": "a16a25d3-3420-4884-b3b3-af6f6b0ff70c",
   "metadata": {},
   "outputs": [
    {
     "data": {
      "text/plain": [
       "6642"
      ]
     },
     "execution_count": 86,
     "metadata": {},
     "output_type": "execute_result"
    }
   ],
   "source": [
    "len(visites)"
   ]
  },
  {
   "cell_type": "code",
   "execution_count": null,
   "id": "1d258efc-470a-484f-afde-7d4cce66b620",
   "metadata": {},
   "outputs": [],
   "source": [
    "#En fait c'est pas assez général, il nous faut une fonction qui calcule la trajectoire suivante à partir de la précédente pour pouvoir itérer"
   ]
  },
  {
   "cell_type": "code",
   "execution_count": 135,
   "id": "e6372f11-4df2-4740-a65d-06862d670aca",
   "metadata": {},
   "outputs": [],
   "source": [
    "#calcul de trajectoire\n",
    "def trajectoire(moveseq):\n",
    "    traj=[np.array([0,0])]\n",
    "    position=np.array([0,0])\n",
    "    for step in moveseq:\n",
    "        position=position+step\n",
    "        traj=np.append(traj,[position],axis=0)\n",
    "    return traj"
   ]
  },
  {
   "cell_type": "code",
   "execution_count": 139,
   "id": "943bfde5-4075-4722-b375-466a86289b02",
   "metadata": {},
   "outputs": [],
   "source": [
    "def trajectoire_suivante(traj):\n",
    "    tail_position=np.array([0,0])\n",
    "    traj_suivante=[tail_position]\n",
    "    for pos in traj:\n",
    "        difference=pos-tail_position\n",
    "        if la.norm(difference)>1.5:\n",
    "            tail_position=tail_position+np.sign(difference)\n",
    "        traj_suivante=np.append(traj_suivante,[tail_position],axis=0)\n",
    "    return traj_suivante"
   ]
  },
  {
   "cell_type": "code",
   "execution_count": 140,
   "id": "ec65cfc2-3cec-4efc-8a51-312d1d9b21c7",
   "metadata": {},
   "outputs": [
    {
     "data": {
      "text/plain": [
       "array([[   0,    0],\n",
       "       [   0,    0],\n",
       "       [   0,    0],\n",
       "       ...,\n",
       "       [ -34, -412],\n",
       "       [ -35, -412],\n",
       "       [ -36, -412]])"
      ]
     },
     "execution_count": 140,
     "metadata": {},
     "output_type": "execute_result"
    }
   ],
   "source": [
    "trajectoire_suivante(trajectoire(moves))"
   ]
  },
  {
   "cell_type": "code",
   "execution_count": 154,
   "id": "b69190bb-d701-4c61-89bb-777b56427d90",
   "metadata": {},
   "outputs": [],
   "source": [
    "trajectoire_courante=trajectoire(moves)\n",
    "for i in range(9):\n",
    "    trajectoire_courante=trajectoire_suivante(trajectoire_courante)"
   ]
  },
  {
   "cell_type": "code",
   "execution_count": 159,
   "id": "32feb6e0-4b80-45fd-bf85-7ead2814f7bb",
   "metadata": {},
   "outputs": [
    {
     "data": {
      "text/plain": [
       "2765"
      ]
     },
     "execution_count": 159,
     "metadata": {},
     "output_type": "execute_result"
    }
   ],
   "source": [
    "len(set([str(pos) for pos in trajectoire_courante.tolist()]))"
   ]
  }
 ],
 "metadata": {
  "kernelspec": {
   "display_name": "Python 3 (ipykernel)",
   "language": "python",
   "name": "python3"
  },
  "language_info": {
   "codemirror_mode": {
    "name": "ipython",
    "version": 3
   },
   "file_extension": ".py",
   "mimetype": "text/x-python",
   "name": "python",
   "nbconvert_exporter": "python",
   "pygments_lexer": "ipython3",
   "version": "3.9.13"
  }
 },
 "nbformat": 4,
 "nbformat_minor": 5
}
